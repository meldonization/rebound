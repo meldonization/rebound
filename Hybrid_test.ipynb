{
 "cells": [
  {
   "cell_type": "code",
   "execution_count": 2,
   "metadata": {
    "collapsed": false
   },
   "outputs": [
    {
     "name": "stdout",
     "output_type": "stream",
     "text": [
      "Feb 21 2016 20:16:45\n"
     ]
    },
    {
     "name": "stderr",
     "output_type": "stream",
     "text": [
      "/Users/rein/git/rebound/venv/lib/python2.7/site-packages/matplotlib/font_manager.py:273: UserWarning: Matplotlib is building the font cache using fc-list. This may take a moment.\n",
      "  warnings.warn('Matplotlib is building the font cache using fc-list. This may take a moment.')\n"
     ]
    }
   ],
   "source": [
    "import rebound\n",
    "import numpy as np\n",
    "print(rebound.__build__)\n",
    "%matplotlib inline\n",
    "import matplotlib.pyplot as plt"
   ]
  },
  {
   "cell_type": "code",
   "execution_count": 3,
   "metadata": {
    "collapsed": false
   },
   "outputs": [],
   "source": [
    "Nplanetesimals = 20\n",
    "\n",
    "sim = rebound.Simulation()\n",
    "sim.integrator = \"hybarid\"\n",
    "sim.collision = \"direct\"\n",
    "sim.collision_resolve = \"merge\"\n",
    "sim.ri_hybarid.CE_radius = 15.\n",
    "sim.testparticle_type = 1\n",
    "sim.collisions_track_dE = 1\n",
    "sim.dt = 1e-3* 785.355560339\n",
    "\n",
    "m_earth = 0.000003003\n",
    "sim.add(m=1.,r=0.005)\n",
    "sim.add(m=2.3*m_earth, r=0.0000788215, a=25)\n",
    "#sim.add(m=2.3*m_earth, r=0.0000788215, a=40)\n",
    "\n",
    "for i in range(Nplanetesimals):\n",
    "    sim.add(r=0.000009,m=1e-3*m_earth,a=np.random.uniform(15.,35.),inc=0.01*np.random.randn(),e=np.random.uniform(0.,0.01), omega=np.random.uniform(0.,2.*np.pi), Omega=np.random.uniform(0.,2.*np.pi), f=np.random.uniform(0.,2.*np.pi))\n",
    "sim.N_active = 2\n",
    "sim.move_to_com()"
   ]
  },
  {
   "cell_type": "code",
   "execution_count": 4,
   "metadata": {
    "collapsed": false
   },
   "outputs": [
    {
     "name": "stdout",
     "output_type": "stream",
     "text": [
      "timesteps: 800043.397473   particles: 22\n"
     ]
    }
   ],
   "source": [
    "E0 = sim.calculate_energy()\n",
    "N = 100\n",
    "times = 2.*np.pi*np.logspace(0.,5.,N)\n",
    "print(\"timesteps: %f   particles: %d\" %(times[-1]/sim.dt, sim.N))"
   ]
  },
  {
   "cell_type": "code",
   "execution_count": null,
   "metadata": {
    "collapsed": true
   },
   "outputs": [],
   "source": [
    "energy = np.zeros((N))\n",
    "collisions_dE = np.zeros((N))\n",
    "for i, t in enumerate(times):\n",
    "    sim.integrate(t)\n",
    "    collisions_dE[i] = sim.collisions_dE\n",
    "    energy[i] = np.abs((sim.calculate_energy()+ sim.collisions_dE-E0)/E0)"
   ]
  },
  {
   "cell_type": "code",
   "execution_count": null,
   "metadata": {
    "collapsed": false
   },
   "outputs": [],
   "source": [
    "fig = plt.figure(figsize=(10,4))\n",
    "ax = plt.subplot(111)\n",
    "ax.set_yscale(\"log\")\n",
    "ax.set_xscale(\"log\")\n",
    "ax.plot(times/785.355560339,energy)\n",
    "ax.plot(times/785.355560339,np.abs(collisions_dE))"
   ]
  },
  {
   "cell_type": "code",
   "execution_count": 28,
   "metadata": {
    "collapsed": false
   },
   "outputs": [
    {
     "name": "stdout",
     "output_type": "stream",
     "text": [
      "22\n"
     ]
    }
   ],
   "source": [
    "print sim.N"
   ]
  },
  {
   "cell_type": "code",
   "execution_count": null,
   "metadata": {
    "collapsed": false
   },
   "outputs": [],
   "source": [
    "rebound.OrbitPlot(sim)"
   ]
  },
  {
   "cell_type": "code",
   "execution_count": null,
   "metadata": {
    "collapsed": true
   },
   "outputs": [],
   "source": []
  }
 ],
 "metadata": {
  "kernelspec": {
   "display_name": "Python 2",
   "language": "python",
   "name": "python2"
  },
  "language_info": {
   "codemirror_mode": {
    "name": "ipython",
    "version": 2
   },
   "file_extension": ".py",
   "mimetype": "text/x-python",
   "name": "python",
   "nbconvert_exporter": "python",
   "pygments_lexer": "ipython2",
   "version": "2.7.10"
  }
 },
 "nbformat": 4,
 "nbformat_minor": 0
}
